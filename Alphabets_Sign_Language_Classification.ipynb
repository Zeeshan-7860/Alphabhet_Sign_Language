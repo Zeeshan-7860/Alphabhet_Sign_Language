{
  "nbformat": 4,
  "nbformat_minor": 0,
  "metadata": {
    "colab": {
      "provenance": []
    },
    "kernelspec": {
      "name": "python3",
      "display_name": "Python 3"
    },
    "language_info": {
      "name": "python"
    }
  },
  "cells": [
    {
      "cell_type": "code",
      "source": [
        "import pandas as pd\n",
        "import numpy as np\n",
        "import cv2\n",
        "import tensorflow as tf\n",
        "from sklearn.model_selection import train_test_split\n",
        "!pip install opencv-python"
      ],
      "metadata": {
        "id": "6Ce_sOR-v61X"
      },
      "execution_count": null,
      "outputs": []
    },
    {
      "cell_type": "code",
      "execution_count": null,
      "metadata": {
        "id": "wUTNYuuPo4Q0"
      },
      "outputs": [],
      "source": [
        "# Step 1: Load and preprocess the dataset\n",
        "data = pd.read_csv(\"/content/dataset.csv\")\n",
        "X = data.drop('label', axis=1).values\n",
        "y = data['label'].values\n",
        "\n",
        "X = X / 255.0\n",
        "\n",
        "# Step 2: Split the dataset\n",
        "X_train, X_test, y_train, y_test = train_test_split(X, y, test_size=0.2, random_state=42)\n",
        "\n",
        "# Step 3: Choose a model\n",
        "model = tf.keras.models.Sequential([\n",
        "    tf.keras.layers.Dense(128, activation='relu', input_shape=(784,)),\n",
        "    tf.keras.layers.Dropout(0.2),\n",
        "    tf.keras.layers.Dense(64, activation='relu'),\n",
        "    tf.keras.layers.Dense(26, activation='softmax')  ])\n",
        "\n",
        "# Step 4: Compile the model\n",
        "model.compile(optimizer='adam', loss='sparse_categorical_crossentropy', metrics=['accuracy'])\n",
        "\n",
        "# Step 5: Train the model\n",
        "model.fit(X_train, y_train, epochs=30, batch_size=32, validation_data=(X_test, y_test))\n",
        "\n",
        "# Step 6: Evaluate the model\n",
        "loss, accuracy = model.evaluate(X_test, y_test)\n",
        "print(f\"Test accuracy: {accuracy}\")\n"
      ]
    },
    {
      "cell_type": "code",
      "source": [
        "def preprocess_image(image_path):\n",
        "    image = cv2.imread(image_path, cv2.IMREAD_GRAYSCALE)\n",
        "    resized_image = cv2.resize(image, (28, 28))\n",
        "    normalized_image = resized_image / 255.0\n",
        "    flattened_image = normalized_image.flatten()\n",
        "    return flattened_image\n",
        "\n",
        "input_image_path = \"/content/sample_data/asa.png\"\n",
        "\n",
        "input_image = preprocess_image(input_image_path)\n",
        "\n",
        "input_image = np.expand_dims(input_image, axis=0)  # Add a batch dimension\n",
        "predicted_probabilities = model.predict(input_image)\n",
        "predicted_class_index = np.argmax(predicted_probabilities, axis=-1)[0]\n",
        "predicted_class = chr(ord('A') + predicted_class_index)\n",
        "\n",
        "print(f\"Predicted class: {predicted_class}\")"
      ],
      "metadata": {
        "id": "m2q-85KAv1k9"
      },
      "execution_count": null,
      "outputs": []
    }
  ]
}